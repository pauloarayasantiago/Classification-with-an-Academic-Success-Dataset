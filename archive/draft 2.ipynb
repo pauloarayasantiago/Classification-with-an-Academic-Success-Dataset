{
 "cells": [
  {
   "cell_type": "code",
   "execution_count": null,
   "metadata": {},
   "outputs": [],
   "source": [
    "\n",
    "# Cell 1: Install FLAML\n",
    "!pip install flaml"
   ]
  },
  {
   "cell_type": "code",
   "execution_count": null,
   "metadata": {},
   "outputs": [],
   "source": [
    "# Cell 2: Import Libraries\n",
    "import pandas as pd\n",
    "import numpy as np\n",
    "import matplotlib.pyplot as plt\n",
    "import seaborn as sns\n",
    "import warnings\n",
    "from scipy.stats import chi2_contingency\n",
    "from sklearn.model_selection import train_test_split\n",
    "from flaml import AutoML\n",
    "from sklearn.metrics import accuracy_score\n",
    "\n",
    "# Ignore warnings\n",
    "warnings.filterwarnings('ignore')"
   ]
  },
  {
   "cell_type": "code",
   "execution_count": null,
   "metadata": {},
   "outputs": [],
   "source": [
    "# Cell 3: Load Data\n",
    "train = pd.read_csv('train.csv', index_col='id')\n",
    "test = pd.read_csv('test.csv', index_col='id')"
   ]
  },
  {
   "cell_type": "code",
   "execution_count": null,
   "metadata": {},
   "outputs": [],
   "source": [
    "# Cell 4: Initial Data Inspection\n",
    "display(train.head())\n",
    "display(train.dtypes)\n",
    "display(train.nunique())"
   ]
  },
  {
   "cell_type": "code",
   "execution_count": null,
   "metadata": {},
   "outputs": [],
   "source": [
    "# Cell 5: Separating Features and Removing White Spaces from Feature Names\n",
    "target_feature = ['Target']\n",
    "\n",
    "categorical_features = [\n",
    "    'Marital status', 'Application mode', 'Application order', 'Course',\n",
    "    'Daytime/evening attendance', 'Previous qualification', 'Nacionality',\n",
    "    \"Mother's qualification\", \"Father's qualification\", \"Mother's occupation\", \"Father's occupation\"\n",
    "]\n",
    "\n",
    "binary_categorical_features = [\n",
    "    'Displaced', 'Educational special needs', 'Debtor', 'Tuition fees up to date',\n",
    "    'Gender', 'Scholarship holder', 'International'\n",
    "]\n",
    "\n",
    "numerical_features = [\n",
    "    'Previous qualification (grade)', 'Admission grade', 'Age at enrollment',\n",
    "    'Curricular units 1st sem (credited)', 'Curricular units 1st sem (enrolled)',\n",
    "    'Curricular units 1st sem (evaluations)', 'Curricular units 1st sem (approved)',\n",
    "    'Curricular units 1st sem (grade)', 'Curricular units 1st sem (without evaluations)',\n",
    "    'Curricular units 2nd sem (credited)', 'Curricular units 2nd sem (enrolled)',\n",
    "    'Curricular units 2nd sem (evaluations)', 'Curricular units 2nd sem (approved)',\n",
    "    'Curricular units 2nd sem (grade)', 'Curricular units 2nd sem (without evaluations)',\n",
    "    'Unemployment rate', 'Inflation rate', 'GDP'\n",
    "]\n",
    "\n",
    "# Removing white spaces from feature names\n",
    "train.columns = [x.replace(' ', '_') for x in train.columns]\n",
    "test.columns = [x.replace(' ', '_') for x in test.columns]"
   ]
  },
  {
   "cell_type": "code",
   "execution_count": null,
   "metadata": {},
   "outputs": [],
   "source": [
    "# Cell 6: Correlation Check\n",
    "X = train[train.columns[1:-1]]\n",
    "X['Target'] = [1 if x == 'Graduate' else 2 if x == 'Dropout' else 3 for x in train['Target']]\n",
    "corr = X.corr()\n",
    "\n",
    "# Generate a mask for the upper triangle\n",
    "mask = np.triu(np.ones_like(corr, dtype=bool))\n",
    "\n",
    "# Plotting correlation heatmap\n",
    "fig, ax = plt.subplots(figsize=(12, 12))\n",
    "sns.heatmap(corr, mask=mask, cmap='Reds', linewidth=0.1)\n",
    "plt.title('CORRELATION MAP', color='blue', fontsize=12)\n",
    "plt.show()"
   ]
  },
  {
   "cell_type": "code",
   "execution_count": null,
   "metadata": {},
   "outputs": [],
   "source": [
    "# Cell 7: Distribution Plots\n",
    "palette = sns.color_palette(\"Set2\", 3)\n",
    "target_palette = {'Graduate': palette[0], 'Dropout': palette[1], 'Enrolled': palette[2]}\n",
    "\n",
    "fig, axes = plt.subplots(2, 3, figsize=(18, 12))\n",
    "sns.set_style(\"whitegrid\")\n",
    "\n",
    "train['Target'].value_counts().plot(kind='bar', ax=axes[0, 0], title='Distribution of Target Variable', color=[target_palette['Graduate'], target_palette['Dropout'], target_palette['Enrolled']])\n",
    "axes[0, 0].set_xlabel('Target')\n",
    "axes[0, 0].set_ylabel('Count')\n",
    "\n",
    "train['Admission_grade'].plot(kind='hist', bins=20, ax=axes[0, 1], title='Distribution of Admission Grade', color=palette[0])\n",
    "axes[0, 1].set_xlabel('Admission Grade')\n",
    "axes[0, 1].set_ylabel('Frequency')\n",
    "\n",
    "train['Mean_Semester_Grade'] = (train['Curricular_units_1st_sem_(grade)'] + train['Curricular_units_2nd_sem_(grade)']) / 2\n",
    "sns.boxplot(x='Target', y='Mean_Semester_Grade', data=train, ax=axes[0, 2], palette=[target_palette['Graduate'], target_palette['Dropout'], target_palette['Enrolled']])\n",
    "axes[0, 2].set_title('Mean Semester Grades by Target Variable')\n",
    "axes[0, 2].set_xlabel('Target')\n",
    "axes[0, 2].set_ylabel('Mean Semester Grades')\n",
    "\n",
    "train['Age_at_enrollment'].plot(kind='hist', bins=20, ax=axes[1, 0], title='Age Distribution', color=palette[0])\n",
    "axes[1, 0].set_xlabel('Age at Enrollment')\n",
    "axes[1, 0].set_ylabel('Frequency')\n",
    "\n",
    "sns.boxplot(x='Target', y='Admission_grade', data=train, ax=axes[1, 1], palette=[target_palette['Graduate'], target_palette['Dropout'], target_palette['Enrolled']])\n",
    "axes[1, 1].set_title('Admission Grade by Target Variable')\n",
    "axes[1, 1].set_xlabel('Target')\n",
    "axes[1, 1].set_ylabel('Admission Grade')\n",
    "\n",
    "train['Gender'].value_counts().plot(kind='bar', ax=axes[1, 2], title='Distribution of Gender', color=palette[0])\n",
    "axes[1, 2].set_xlabel('Gender')\n",
    "axes[1, 2].set_xticklabels(['Female', 'Male'], rotation=0)\n",
    "axes[1, 2].set_ylabel('Count')\n",
    "\n",
    "plt.tight_layout()\n",
    "plt.show()\n",
    "\n",
    "train = train.drop('Mean_Semester_Grade', axis=1)"
   ]
  },
  {
   "cell_type": "code",
   "execution_count": null,
   "metadata": {},
   "outputs": [],
   "source": [
    "# Cell 8: Gender vs. Target Distribution\n",
    "plt.figure(figsize=(10, 6))\n",
    "sns.countplot(x='Gender', hue='Target', data=train, palette=[target_palette['Graduate'], target_palette['Dropout'], target_palette['Enrolled']])\n",
    "plt.title('Target Distribution by Gender')\n",
    "plt.xlabel('Gender')\n",
    "plt.ylabel('Count')\n",
    "plt.legend(title='Target')\n",
    "plt.xticks([0, 1], ['Female', 'Male'])\n",
    "plt.show()"
   ]
  },
  {
   "cell_type": "code",
   "execution_count": null,
   "metadata": {},
   "outputs": [],
   "source": [
    "# Cell 9: Chi-Square Test\n",
    "contingency_table = pd.crosstab(train['Gender'], train['Target'])\n",
    "chi2, p, dof, ex = chi2_contingency(contingency_table)\n",
    "print(f'Chi-Square Test:\\nChi2: {chi2}\\np-value: {p}')"
   ]
  },
  {
   "cell_type": "code",
   "execution_count": null,
   "metadata": {},
   "outputs": [],
   "source": [
    "# Cell 10: Age Group and Scholarship Analysis\n",
    "fig, axes = plt.subplots(1, 2, figsize=(18, 6))\n",
    "train['Age_Group'] = pd.cut(train['Age_at_enrollment'], bins=[15, 20, 25, 30, 35, 40, 50], labels=['15-20', '21-25', '26-30', '31-35', '36-40', '41-50'])\n",
    "\n",
    "age_group_distribution = train.groupby('Age_Group')['Target'].value_counts(normalize=True).unstack().fillna(0) * 100\n",
    "age_group_distribution = age_group_distribution[['Graduate', 'Dropout', 'Enrolled']]\n",
    "age_group_distribution.plot(kind='bar', ax=axes[0], color=[target_palette['Graduate'], target_palette['Dropout'], target_palette['Enrolled']])\n",
    "axes[0].set_title('Normalized Target Distribution Across Age Groups')\n",
    "axes[0].set_xlabel('Age Group')\n",
    "axes[0].set_ylabel('Percentage')\n",
    "axes[0].legend(title='Target')\n",
    "\n",
    "scholarship_distribution = train.groupby('Scholarship_holder')['Target'].value_counts(normalize=True).unstack().fillna(0) * 100\n",
    "scholarship_distribution = scholarship_distribution[['Graduate', 'Dropout', 'Enrolled']]\n",
    "scholarship_distribution.plot(kind='bar', ax=axes[1], color=[target_palette['Graduate'], target_palette['Dropout'], target_palette['Enrolled']])\n",
    "axes[1].set_title('Normalized Target Distribution by Scholarship Holder Status')\n",
    "axes[1].set_xlabel('Scholarship Holder')\n",
    "axes[1].set_ylabel('Percentage')\n",
    "axes[1].set_xticklabels(['No', 'Yes'], rotation=0)\n",
    "axes[1].legend(title='Target')\n",
    "\n",
    "plt.tight_layout()\n",
    "plt.show()\n",
    "\n",
    "train = train.drop(['Age_Group'], axis=1)"
   ]
  },
  {
   "cell_type": "code",
   "execution_count": null,
   "metadata": {},
   "outputs": [],
   "source": [
    "# Cell 11: Combine Features\n",
    "def combine_features(df):\n",
    "    df['Total_Credits'] = df['Curricular_units_1st_sem_(credited)'] + df['Curricular_units_2nd_sem_(credited)']\n",
    "    df['Total_Evaluations'] = df['Curricular_units_1st_sem_(evaluations)'] + df['Curricular_units_2nd_sem_(evaluations)']\n",
    "    df['Total_Approved'] = df['Curricular_units_1st_sem_(approved)'] + df['Curricular_units_2nd_sem_(approved)']\n",
    "    return df\n",
    "\n",
    "train = combine_features(train)\n",
    "test = combine_features(test)\n",
    "\n",
    "# Verify the correct columns to remove\n",
    "less_important_features = [\n",
    "    'Marital_status', 'Application_mode', 'International', 'Mother\\'s_occupation',\n",
    "    'Father\\'s_occupation', 'Educational_special_needs', 'Displaced', 'GDP',\n",
    "    'Inflation_rate', 'Unemployment_rate'\n",
    "]\n",
    "\n",
    "train = train.drop(columns=less_important_features)\n",
    "test = test.drop(columns=less_important_features)"
   ]
  },
  {
   "cell_type": "code",
   "execution_count": null,
   "metadata": {},
   "outputs": [],
   "source": [
    "# Cell 12: Train-Test Split\n",
    "X_train, X_val, y_train, y_val = train_test_split(train.drop('Target', axis=1), train['Target'], test_size=0.2, random_state=42)"
   ]
  },
  {
   "cell_type": "code",
   "execution_count": null,
   "metadata": {},
   "outputs": [],
   "source": [
    "# Cell 13: AutoML Model Training\n",
    "autoML = AutoML()\n",
    "autoML.fit(X_train, y_train, task=\"classification\", metric='accuracy', time_budget=30)\n",
    "\n",
    "print(f'Best AutoML Model: {autoML.best_estimator}\\n')\n",
    "print(f'Best Parameter AutoML Model:\\n {autoML.best_config}\\n')\n",
    "print(f'Best roc_auc_ovo On Val data: {1 - autoML.best_loss:.4g}\\n')\n",
    "print(f'Best Run Training duration: {autoML.best_config_train_time:.4g} s\\n')"
   ]
  },
  {
   "cell_type": "code",
   "execution_count": null,
   "metadata": {},
   "outputs": [],
   "source": [
    "# Cell 14: Feature Importance\n",
    "plt.figure(figsize=(20, 15), facecolor='yellow')\n",
    "plt.barh(autoML.model.estimator.feature_name_, autoML.model.estimator.feature_importances_)\n",
    "plt.show()"
   ]
  },
  {
   "cell_type": "code",
   "execution_count": null,
   "metadata": {},
   "outputs": [],
   "source": [
    "# Cell 15: Model Evaluation\n",
    "y_pred = autoML.predict(X_val)\n",
    "accuracy = accuracy_score(y_val, y_pred)\n",
    "print(f'Best Accuracy on Validation Data: {accuracy:.4g}\\n')\n"
   ]
  }
 ],
 "metadata": {
  "language_info": {
   "name": "python"
  }
 },
 "nbformat": 4,
 "nbformat_minor": 2
}
